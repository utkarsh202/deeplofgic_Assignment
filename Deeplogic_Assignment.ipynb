{
 "cells": [
  {
   "cell_type": "code",
   "execution_count": null,
   "id": "3c094ec8-9f2b-4c9e-99ee-25ee17579529",
   "metadata": {},
   "outputs": [],
   "source": [
    "from flask import Flask, jsonify\n",
    "import requests\n",
    "import re\n",
    "\n",
    "app = Flask(__name__)\n",
    "\n",
    "@app.route('/latest-stories')\n",
    "def get_latest_stories():\n",
    "    url = \"https://time.com/\"\n",
    "\n",
    "\n",
    "    response = requests.get(url)\n",
    "\n",
    "    if response.status_code == 200:\n",
    "        html_text = response.text\n",
    "\n",
    "        regex = r'<li class=\"latest-stories__item\">(.*?)</li>'\n",
    "        matches = re.findall(regex, html_text, re.DOTALL)\n",
    "\n",
    "        top_stories = []\n",
    "        for story in matches:\n",
    "            temp_text = story.strip()\n",
    "            begin_index = temp_text.find('h3') + 41\n",
    "            end_index = temp_text.find('</h3>')\n",
    "            title_1 = temp_text[begin_index:end_index]\n",
    "            pos = story.strip().find('/\">') + 1\n",
    "            link_1 = url + story.strip()[17:pos]\n",
    "            top_stories.append({'title': title_1, 'link': link_1})\n",
    "\n",
    "        return jsonify(top_stories)\n",
    "    else:\n",
    "        return jsonify({'error': f\"Unable to fetch content from {url}. Status code: {response.status_code}\"}), 400\n",
    "\n",
    "if __name__ == '__main__':\n",
    "    app.run(host='0.0.0.0', port=5000)  \n"
   ]
  }
 ],
 "metadata": {
  "kernelspec": {
   "display_name": "Python 3 (ipykernel)",
   "language": "python",
   "name": "python3"
  },
  "language_info": {
   "codemirror_mode": {
    "name": "ipython",
    "version": 3
   },
   "file_extension": ".py",
   "mimetype": "text/x-python",
   "name": "python",
   "nbconvert_exporter": "python",
   "pygments_lexer": "ipython3",
   "version": "3.12.1"
  }
 },
 "nbformat": 4,
 "nbformat_minor": 5
}
